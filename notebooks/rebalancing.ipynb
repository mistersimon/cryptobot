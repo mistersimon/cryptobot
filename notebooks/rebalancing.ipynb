{
 "cells": [
  {
   "cell_type": "code",
   "execution_count": 1,
   "metadata": {},
   "outputs": [
    {
     "name": "stdout",
     "output_type": "stream",
     "text": [
      "/mnt/c/Users/yogi/Documents/Dev/cryptobot\n"
     ]
    }
   ],
   "source": [
    "%cd '/mnt/c/Users/yogi/Documents/Dev/cryptobot'\n"
   ]
  },
  {
   "cell_type": "code",
   "execution_count": 2,
   "metadata": {},
   "outputs": [],
   "source": [
    "import pandas as pd\n",
    "import numpy as np"
   ]
  },
  {
   "cell_type": "code",
   "execution_count": 4,
   "metadata": {},
   "outputs": [],
   "source": [
    "from binance.client import Client\n",
    "import config #config file with api keys\n",
    "binance = Client(config.binance_api_key, config.binance_api_secret)"
   ]
  },
  {
   "cell_type": "code",
   "execution_count": 102,
   "metadata": {},
   "outputs": [
    {
     "data": {
      "text/plain": [
       "{'ADA/BTC': (43.0, 'ADA'),\n",
       " 'BCC/BTC': (0.016, 'BCC'),\n",
       " 'BTC': (0.002, 'BTC'),\n",
       " 'BTG/BTC': (0.16, 'BTG'),\n",
       " 'DASH/BTC': (0.03, 'DASH'),\n",
       " 'EOS/BTC': (2.0, 'EOS'),\n",
       " 'ETC/BTC': (0.83, 'ETC'),\n",
       " 'ETH/BTC': (0.02, 'ETH'),\n",
       " 'ICX/BTC': (3.42, 'ICX'),\n",
       " 'IOTA/BTC': (9.0, 'IOTA'),\n",
       " 'LSK/BTC': (0.84, 'LSK'),\n",
       " 'LTC/BTC': (0.11, 'LTC'),\n",
       " 'NANO/BTC': (1.41, 'NANO'),\n",
       " 'NEO/BTC': (0.14, 'NEO'),\n",
       " 'QTUM/BTC': (0.68, 'QTUM'),\n",
       " 'TRX/BTC': (433.0, 'TRX'),\n",
       " 'VEN/BTC': (4.0, 'VEN'),\n",
       " 'XLM/BTC': (43.0, 'XLM'),\n",
       " 'XMR/BTC': (0.07400000000000001, 'XMR'),\n",
       " 'XRP/BTC': (21.0, 'XRP')}"
      ]
     },
     "metadata": {},
     "output_type": "display_data"
    }
   ],
   "source": [
    "holdings = {'ADA/BTC': 43.0, 'BCC/BTC': 0.016, 'BTC': 0.002, 'BTG/BTC': 0.16, 'DASH/BTC': 0.03, 'EOS/BTC': 2.0, 'ETC/BTC': 0.83, 'ETH/BTC': 0.02, 'ICX/BTC': 3.42, 'IOTA/BTC': 9.0, 'LSK/BTC': 0.84, 'LTC/BTC': 0.11, 'NANO/BTC': 1.41, 'NEO/BTC': 0.14, 'QTUM/BTC': 0.68, 'TRX/BTC': 433.0, 'VEN/BTC': 4.0, 'XLM/BTC': 43.0, 'XMR/BTC': 0.07400000000000001, 'XRP/BTC': 21.0}\n",
    "holdings = {k:(v, k.split('/')[0]) for k,v in holdings.items()}\n",
    "display(holdings)\n"
   ]
  },
  {
   "cell_type": "code",
   "execution_count": 103,
   "metadata": {},
   "outputs": [
    {
     "data": {
      "text/plain": [
       "'XRP'"
      ]
     },
     "execution_count": 103,
     "metadata": {},
     "output_type": "execute_result"
    }
   ],
   "source": [
    "'XRP/BTC'.split('/')[0]"
   ]
  },
  {
   "cell_type": "code",
   "execution_count": 104,
   "metadata": {},
   "outputs": [
    {
     "data": {
      "text/plain": [
       "{'ADA/BTC': (0.00133816, 'BTC'),\n",
       " 'BCC/BTC': (0.001968448, 'BTC'),\n",
       " 'BTC': (0.002, 'BTC'),\n",
       " 'BTG/BTC': (0.0018272, 'BTC'),\n",
       " 'DASH/BTC': (0.00182634, 'BTC'),\n",
       " 'EOS/BTC': (0.001572, 'BTC'),\n",
       " 'ETC/BTC': (0.00297555, 'BTC'),\n",
       " 'ETH/BTC': (0.00166916, 'BTC'),\n",
       " 'ICX/BTC': (0.001309176, 'BTC'),\n",
       " 'IOTA/BTC': (0.0015083100000000001, 'BTC'),\n",
       " 'LSK/BTC': (0.001768956, 'BTC'),\n",
       " 'LTC/BTC': (0.00224224, 'BTC'),\n",
       " 'NANO/BTC': (0.002135163, 'BTC'),\n",
       " 'NEO/BTC': (0.0016375800000000002, 'BTC'),\n",
       " 'QTUM/BTC': (0.0017272000000000001, 'BTC'),\n",
       " 'TRX/BTC': (0.00180994, 'BTC'),\n",
       " 'VEN/BTC': (0.0022926, 'BTC'),\n",
       " 'XLM/BTC': (0.0015118800000000002, 'BTC'),\n",
       " 'XMR/BTC': (0.0020055480000000002, 'BTC'),\n",
       " 'XRP/BTC': (0.00191499, 'BTC')}"
      ]
     },
     "execution_count": 104,
     "metadata": {},
     "output_type": "execute_result"
    }
   ],
   "source": [
    "holdings_btc ={'ADA/BTC': 0.00133816, 'BCC/BTC': 0.001968448, 'BTC': 0.002, 'BTG/BTC': 0.0018272, 'DASH/BTC': 0.00182634, 'EOS/BTC': 0.001572, 'ETC/BTC': 0.00297555, 'ETH/BTC': 0.00166916, 'ICX/BTC': 0.001309176, 'IOTA/BTC': 0.0015083100000000001, 'LSK/BTC': 0.001768956, 'LTC/BTC': 0.00224224, 'NANO/BTC': 0.002135163, 'NEO/BTC': 0.0016375800000000002, 'QTUM/BTC': 0.0017272000000000001, 'TRX/BTC': 0.00180994, 'VEN/BTC': 0.0022926, 'XLM/BTC': 0.0015118800000000002, 'XMR/BTC': 0.0020055480000000002, 'XRP/BTC': 0.00191499}\n",
    "holdings_btc = { k:(v, 'BTC') for k,v in holdings_btc.items()}\n",
    "holdings_btc"
   ]
  },
  {
   "cell_type": "code",
   "execution_count": 120,
   "metadata": {},
   "outputs": [
    {
     "data": {
      "text/plain": [
       "20"
      ]
     },
     "metadata": {},
     "output_type": "display_data"
    },
    {
     "data": {
      "text/plain": [
       "{'ADA/BTC': (0.05, '%'),\n",
       " 'BCH/BTC': (0.05, '%'),\n",
       " 'BTC': (0.05, '%'),\n",
       " 'BTG/BTC': (0.05, '%'),\n",
       " 'DASH/BTC': (0.05, '%'),\n",
       " 'EOS/BTC': (0.05, '%'),\n",
       " 'ETC/BTC': (0.05, '%'),\n",
       " 'ETH/BTC': (0.05, '%'),\n",
       " 'LSK/BTC': (0.05, '%'),\n",
       " 'LTC/BTC': (0.05, '%'),\n",
       " 'MIOTA/BTC': (0.05, '%'),\n",
       " 'NANO/BTC': (0.05, '%'),\n",
       " 'NEO/BTC': (0.05, '%'),\n",
       " 'OMG/BTC': (0.05, '%'),\n",
       " 'QTUM/BTC': (0.05, '%'),\n",
       " 'TRX/BTC': (0.05, '%'),\n",
       " 'VEN/BTC': (0.05, '%'),\n",
       " 'XLM/BTC': (0.05, '%'),\n",
       " 'XMR/BTC': (0.05, '%'),\n",
       " 'XRP/BTC': (0.05, '%')}"
      ]
     },
     "execution_count": 120,
     "metadata": {},
     "output_type": "execute_result"
    }
   ],
   "source": [
    "target = [('BTC', 0.05, '%'), ('ETH', 0.05, '%'), ('XRP', 0.05, '%'), ('BCH', 0.05, '%'), ('LTC', 0.05, '%'), ('ADA', 0.05, '%'), ('NEO', 0.05, '%'), ('XLM', 0.05, '%'), ('EOS', 0.05, '%'), ('DASH', 0.05, '%'), ('MIOTA', 0.05, '%'), ('XMR', 0.05, '%'), ('ETC', 0.05, '%'), ('TRX', 0.05, '%'), ('VEN', 0.05, '%'), ('LSK', 0.05, '%'), ('BTG', 0.05, '%'), ('NANO', 0.05, '%'), ('QTUM', 0.05, '%'), ('OMG', 0.05, '%')]\n",
    "\n",
    "target = { sym+'/BTC' if sym != 'BTC' else sym: (val, unit) for sym, val, unit in target}\n",
    "display(len(target))\n",
    "target"
   ]
  },
  {
   "cell_type": "code",
   "execution_count": 107,
   "metadata": {},
   "outputs": [
    {
     "data": {
      "text/plain": [
       "0.037040441"
      ]
     },
     "execution_count": 107,
     "metadata": {},
     "output_type": "execute_result"
    }
   ],
   "source": [
    "NAV = sum([v for v,_ in holdings_btc.values()])\n",
    "NAV"
   ]
  },
  {
   "cell_type": "code",
   "execution_count": 108,
   "metadata": {
    "scrolled": true
   },
   "outputs": [
    {
     "data": {
      "text/plain": [
       "{'ADA/BTC': (0.00185202205, 'BTC'),\n",
       " 'BCH/BTC': (0.00185202205, 'BTC'),\n",
       " 'BTC': (0.00185202205, 'BTC'),\n",
       " 'BTG/BTC': (0.00185202205, 'BTC'),\n",
       " 'DASH/BTC': (0.00185202205, 'BTC'),\n",
       " 'EOS/BTC': (0.00185202205, 'BTC'),\n",
       " 'ETC/BTC': (0.00185202205, 'BTC'),\n",
       " 'ETH/BTC': (0.00185202205, 'BTC'),\n",
       " 'LSK/BTC': (0.00185202205, 'BTC'),\n",
       " 'LTC/BTC': (0.00185202205, 'BTC'),\n",
       " 'MIOTA/BTC': (0.00185202205, 'BTC'),\n",
       " 'NANO/BTC': (0.00185202205, 'BTC'),\n",
       " 'NEO/BTC': (0.00185202205, 'BTC'),\n",
       " 'OMG/BTC': (0.00185202205, 'BTC'),\n",
       " 'QTUM/BTC': (0.00185202205, 'BTC'),\n",
       " 'TRX/BTC': (0.00185202205, 'BTC'),\n",
       " 'VEN/BTC': (0.00185202205, 'BTC'),\n",
       " 'XLM/BTC': (0.00185202205, 'BTC'),\n",
       " 'XMR/BTC': (0.00185202205, 'BTC'),\n",
       " 'XRP/BTC': (0.00185202205, 'BTC')}"
      ]
     },
     "execution_count": 108,
     "metadata": {},
     "output_type": "execute_result"
    }
   ],
   "source": [
    "target_btc = { k:(v*NAV,'BTC') for k,(v,_) in target.items()}\n",
    "\n",
    "target_btc"
   ]
  },
  {
   "cell_type": "code",
   "execution_count": 129,
   "metadata": {},
   "outputs": [
    {
     "data": {
      "text/plain": [
       "23"
      ]
     },
     "metadata": {},
     "output_type": "display_data"
    },
    {
     "data": {
      "text/plain": [
       "{'ADA/BTC': (0.0005138620500000001, 'BTC'),\n",
       " 'BCC/BTC': (-0.016, 'BCC'),\n",
       " 'BCH/BTC': (0.00185202205, 'BTC'),\n",
       " 'BTC': (-0.00014797794999999998, 'BTC'),\n",
       " 'BTG/BTC': (2.48220500000001e-05, 'BTC'),\n",
       " 'DASH/BTC': (2.568204999999998e-05, 'BTC'),\n",
       " 'EOS/BTC': (0.00028002205, 'BTC'),\n",
       " 'ETC/BTC': (-0.00112352795, 'BTC'),\n",
       " 'ETH/BTC': (0.00018286205000000002, 'BTC'),\n",
       " 'ICX/BTC': (-3.42, 'ICX'),\n",
       " 'IOTA/BTC': (-9.0, 'IOTA'),\n",
       " 'LSK/BTC': (8.306605000000015e-05, 'BTC'),\n",
       " 'LTC/BTC': (-0.0003902179499999999, 'BTC'),\n",
       " 'MIOTA/BTC': (0.00185202205, 'BTC'),\n",
       " 'NANO/BTC': (-0.00028314094999999976, 'BTC'),\n",
       " 'NEO/BTC': (0.00021444204999999982, 'BTC'),\n",
       " 'OMG/BTC': (0.00185202205, 'BTC'),\n",
       " 'QTUM/BTC': (0.00012482204999999993, 'BTC'),\n",
       " 'TRX/BTC': (4.208205000000016e-05, 'BTC'),\n",
       " 'VEN/BTC': (-0.00044057795000000005, 'BTC'),\n",
       " 'XLM/BTC': (0.0003401420499999999, 'BTC'),\n",
       " 'XMR/BTC': (-0.00015352595000000017, 'BTC'),\n",
       " 'XRP/BTC': (-6.296795000000003e-05, 'BTC')}"
      ]
     },
     "execution_count": 129,
     "metadata": {},
     "output_type": "execute_result"
    }
   ],
   "source": [
    "transactions = target_btc.copy()\n",
    "for sym, (amt, unit) in holdings_btc.items():\n",
    "    if sym in transactions:\n",
    "        if unit == transactions[sym][1]:\n",
    "            transactions[sym] = (transactions[sym][0] - holdings_btc[sym][0], unit)\n",
    "    else:\n",
    "#         transactions[sym] = (-holdings_btc[sym][0], \"BTC\")\n",
    "        transactions[sym] = (-holdings[sym][0], holdings[sym][1])\n",
    "display(len(transactions))\n",
    "transactions\n"
   ]
  },
  {
   "cell_type": "code",
   "execution_count": 111,
   "metadata": {},
   "outputs": [
    {
     "data": {
      "text/plain": [
       "1.3010426069826053e-18"
      ]
     },
     "execution_count": 111,
     "metadata": {},
     "output_type": "execute_result"
    }
   ],
   "source": [
    "sum([v for v,_ in transactions.values()])"
   ]
  },
  {
   "cell_type": "code",
   "execution_count": 124,
   "metadata": {},
   "outputs": [
    {
     "name": "stdout",
     "output_type": "stream",
     "text": [
      "Dropping: BCC/BTC\n",
      "Dropping: ICX/BTC\n",
      "Dropping: IOTA/BTC\n"
     ]
    },
    {
     "data": {
      "text/plain": [
       "20"
      ]
     },
     "metadata": {},
     "output_type": "display_data"
    },
    {
     "data": {
      "text/plain": [
       "{'ADA/BTC': (0.00185202205, 'BTC'),\n",
       " 'BCH/BTC': (0.00185202205, 'BTC'),\n",
       " 'BTC': (0.00185202205, 'BTC'),\n",
       " 'BTG/BTC': (0.00185202205, 'BTC'),\n",
       " 'DASH/BTC': (0.00185202205, 'BTC'),\n",
       " 'EOS/BTC': (0.00185202205, 'BTC'),\n",
       " 'ETC/BTC': (0.00185202205, 'BTC'),\n",
       " 'ETH/BTC': (0.00185202205, 'BTC'),\n",
       " 'LSK/BTC': (0.00185202205, 'BTC'),\n",
       " 'LTC/BTC': (0.00185202205, 'BTC'),\n",
       " 'MIOTA/BTC': (0.00185202205, 'BTC'),\n",
       " 'NANO/BTC': (0.00185202205, 'BTC'),\n",
       " 'NEO/BTC': (0.00185202205, 'BTC'),\n",
       " 'OMG/BTC': (0.00185202205, 'BTC'),\n",
       " 'QTUM/BTC': (0.00185202205, 'BTC'),\n",
       " 'TRX/BTC': (0.00185202205, 'BTC'),\n",
       " 'VEN/BTC': (0.00185202205, 'BTC'),\n",
       " 'XLM/BTC': (0.00185202205, 'BTC'),\n",
       " 'XMR/BTC': (0.00185202205, 'BTC'),\n",
       " 'XRP/BTC': (0.00185202205, 'BTC')}"
      ]
     },
     "execution_count": 124,
     "metadata": {},
     "output_type": "execute_result"
    }
   ],
   "source": [
    "new_holdings = holdings_btc.copy()\n",
    "for k,(v, u) in transactions.items():\n",
    "    if k in new_holdings:\n",
    "        new_holdings[k] = (new_holdings[k][0]+ transactions[k][0], 'BTC')\n",
    "    else:\n",
    "        new_holdings[k] = (transactions[k][0], 'BTC')   \n",
    "    \n",
    "    if new_holdings[k][0] == 0:\n",
    "        print(\"Dropping:\", k)\n",
    "        del new_holdings[k]\n",
    "        \n",
    "display(len(new_holdings))\n",
    "new_holdings"
   ]
  },
  {
   "cell_type": "code",
   "execution_count": 130,
   "metadata": {
    "scrolled": true
   },
   "outputs": [
    {
     "name": "stdout",
     "output_type": "stream",
     "text": [
      "IOTA/BTC (-9.0, 'IOTA')\n",
      "ICX/BTC (-3.42, 'ICX')\n",
      "BCC/BTC (-0.016, 'BCC')\n",
      "ETC/BTC (-0.00112352795, 'BTC')\n",
      "VEN/BTC (-0.00044057795000000005, 'BTC')\n",
      "LTC/BTC (-0.0003902179499999999, 'BTC')\n",
      "NANO/BTC (-0.00028314094999999976, 'BTC')\n",
      "XMR/BTC (-0.00015352595000000017, 'BTC')\n",
      "BTC (-0.00014797794999999998, 'BTC')\n",
      "XRP/BTC (-6.296795000000003e-05, 'BTC')\n",
      "BTG/BTC (2.48220500000001e-05, 'BTC')\n",
      "DASH/BTC (2.568204999999998e-05, 'BTC')\n",
      "TRX/BTC (4.208205000000016e-05, 'BTC')\n",
      "LSK/BTC (8.306605000000015e-05, 'BTC')\n",
      "QTUM/BTC (0.00012482204999999993, 'BTC')\n",
      "ETH/BTC (0.00018286205000000002, 'BTC')\n",
      "NEO/BTC (0.00021444204999999982, 'BTC')\n",
      "EOS/BTC (0.00028002205, 'BTC')\n",
      "XLM/BTC (0.0003401420499999999, 'BTC')\n",
      "ADA/BTC (0.0005138620500000001, 'BTC')\n",
      "BCH/BTC (0.00185202205, 'BTC')\n",
      "MIOTA/BTC (0.00185202205, 'BTC')\n",
      "OMG/BTC (0.00185202205, 'BTC')\n"
     ]
    }
   ],
   "source": [
    "for k in sorted(transactions, key=transactions.__getitem__):\n",
    "    print(k, transactions[k])"
   ]
  },
  {
   "cell_type": "code",
   "execution_count": 2,
   "metadata": {},
   "outputs": [
    {
     "data": {
      "text/plain": [
       "-1"
      ]
     },
     "execution_count": 2,
     "metadata": {},
     "output_type": "execute_result"
    }
   ],
   "source": [
    "'BTC'.find('/')"
   ]
  }
 ],
 "metadata": {
  "kernelspec": {
   "display_name": "Python 3",
   "language": "python",
   "name": "python3"
  },
  "language_info": {
   "codemirror_mode": {
    "name": "ipython",
    "version": 3
   },
   "file_extension": ".py",
   "mimetype": "text/x-python",
   "name": "python",
   "nbconvert_exporter": "python",
   "pygments_lexer": "ipython3",
   "version": "3.6.3"
  }
 },
 "nbformat": 4,
 "nbformat_minor": 2
}
