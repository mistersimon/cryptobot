{
 "cells": [
  {
   "cell_type": "code",
   "execution_count": 1,
   "metadata": {},
   "outputs": [
    {
     "name": "stdout",
     "output_type": "stream",
     "text": [
      "/mnt/c/Users/yogi/Documents/Dev/cryptobot\n"
     ]
    }
   ],
   "source": [
    "%cd '/mnt/c/Users/yogi/Documents/Dev/cryptobot'\n",
    "\n"
   ]
  },
  {
   "cell_type": "markdown",
   "metadata": {},
   "source": [
    "# Multedispatch solution \n",
    "The below uses a mutlidispatch solution. After building i figured it can be done with the built in singledispatch method. See Below"
   ]
  },
  {
   "cell_type": "code",
   "execution_count": 108,
   "metadata": {},
   "outputs": [],
   "source": [
    "# For overloading symbol remap\n",
    "from multipledispatch import dispatch\n",
    "\n",
    "# For trading\n",
    "from binance.client import Client\n",
    "from binance.enums import *\n",
    "import config\n",
    "\n",
    "@dispatch(dict, str)\n",
    "def mapper(mapping, pair):\n",
    "    \"\"\" Converts symbols based on mapping dictionary\n",
    "    \"\"\"\n",
    "    pair = pair.split('/')\n",
    "    for i, sym in enumerate(pair):\n",
    "        if sym in mapping:\n",
    "#                 print('Changing {} to {}'.format(pair[i], self.remapping[sym]))\n",
    "            pair[i] = mapping[sym]\n",
    "    return ('/'.join(pair))\n",
    "\n",
    "@dispatch(dict, list)\n",
    "def mapper(mapping, pairs):\n",
    "    return [mapper(mapping, x) for x in pairs]\n",
    "\n",
    "@dispatch(dict, dict)\n",
    "def mapper(mapping, pairs):\n",
    "    return { mapper(mapping, s):t for s,t in pairs.items()}\n",
    "\n",
    "class trader():\n",
    "    def __init__(self):\n",
    "        pass\n",
    "    \n",
    "    def remapDeco(func):\n",
    "        def wrapper(self, pair):\n",
    "            # Covert input from User to exchange symbols\n",
    "            inp = mapper(self.remapping, pair)\n",
    "            \n",
    "            out = func(self,inp)\n",
    "            \n",
    "            # Convert output from exchange to user symbols\n",
    "            out = mapper(self.unmapping, out)\n",
    "            \n",
    "            return out\n",
    "        return wrapper\n",
    "    \n",
    "    def getPrice(self, sym): \n",
    "        \"\"\" Returns price for a single pair\n",
    "        \"\"\"\n",
    "        pass\n",
    "\n",
    "    def getAllPrices(self):\n",
    "        \"\"\" Returns dictionary of all prices for a list of inputs\n",
    "        \"\"\"\n",
    "        pass\n",
    "\n",
    "class binance(trader):\n",
    "    def __init__(self):\n",
    "        self.client = Client(config.binance_api_key, config.binance_api_secret)\n",
    "        self.remapping = {'BCH':'BCC','MIOTA':'IOTA', 'XRB':'NANO'}\n",
    "        self.unmapping = { v:k for k,v in self.remapping.items()}\n",
    "        self.prices = {'ADA/BTC': 43.0, 'BCC/BTC': 0.016, 'BTC': 0.002, 'BTG/BTC': 0.16, 'DASH/BTC': 0.03, 'EOS/BTC': 2.0, 'ETC/BTC': 0.83, 'ETH/BTC': 0.02, 'ICX/BTC': 3.42, 'IOTA/BTC': 9.0, 'LSK/BTC': 0.84, 'LTC/BTC': 0.11, 'NANO/BTC': 1.41, 'NEO/BTC': 0.14, 'QTUM/BTC': 0.68, 'TRX/BTC': 433.0, 'VEN/BTC': 4.0, 'XLM/BTC': 43.0, 'XMR/BTC': 0.07400000000000001, 'XRP/BTC': 21.0}\n",
    "\n",
    "    @trader.remapDeco\n",
    "    def getPrice(self, sym):\n",
    "        return  {sym: (self.prices[sym], 'BTC')}\n",
    "    \n",
    "    @trader.remapDeco\n",
    "    def getAllPrices(self, pairs): \n",
    "        prices = {}\n",
    "        exchangePrices = self.client.get_all_tickers()\n",
    "        # Scrub exchange prices\n",
    "        exchangePrices = { x['symbol']:x['price'] for x in exchangePrices }\n",
    "\n",
    "        for pair in pairs:\n",
    "            \n",
    "            prices[pair] = (exchangePrices[pair.replace(\"/\",\"\")], 'BTC')\n",
    "        return prices\n",
    "    \n",
    "client = binance()"
   ]
  },
  {
   "cell_type": "code",
   "execution_count": 118,
   "metadata": {},
   "outputs": [],
   "source": [
    "from functools import singledispatch\n",
    "\n",
    "# For trading\n",
    "from binance.client import Client\n",
    "from binance.enums import *\n",
    "import config\n",
    "\n",
    "@singledispatch\n",
    "def mapper(pair, mapping):\n",
    "    raise NotImplementedError('Unsupported type')\n",
    "\n",
    "@mapper.register(str)\n",
    "def _(pair, mapping):\n",
    "    \"\"\" Converts symbols based on mapping dictionary\n",
    "    \"\"\"\n",
    "    pair = pair.split('/')\n",
    "    for i, sym in enumerate(pair):\n",
    "        if sym in mapping:\n",
    "#                 print('Changing {} to {}'.format(pair[i], self.remapping[sym]))\n",
    "            pair[i] = mapping[sym]\n",
    "    return ('/'.join(pair))\n",
    "\n",
    "@mapper.register(list)\n",
    "def _(pairs, mapping):\n",
    "    return [mapper(x, mapping) for x in pairs]\n",
    "\n",
    "@mapper.register(dict)\n",
    "def _(pairs, mapping):\n",
    "    return { mapper(s, mapping):t for s,t in pairs.items()}\n",
    "\n",
    "class trader():\n",
    "    def __init__(self):\n",
    "        pass\n",
    "    \n",
    "    def remapDeco(func):\n",
    "        def wrapper(self, pair):\n",
    "            # Covert input from User to exchange symbols\n",
    "            inp = mapper(pair, self.remapping)\n",
    "            \n",
    "            out = func(self,inp)\n",
    "            \n",
    "            # Convert output from exchange to user symbols\n",
    "            out = mapper(out, self.unmapping)\n",
    "            \n",
    "            return out\n",
    "        return wrapper\n",
    "    \n",
    "    def getPrice(self, sym): \n",
    "        \"\"\" Returns price for a single pair\n",
    "        \"\"\"\n",
    "        pass\n",
    "\n",
    "    def getAllPrices(self):\n",
    "        \"\"\" Returns dictionary of all prices for a list of inputs\n",
    "        \"\"\"\n",
    "        pass\n",
    "\n",
    "class binance(trader):\n",
    "    def __init__(self):\n",
    "        self.client = Client(config.binance_api_key, config.binance_api_secret)\n",
    "        self.remapping = {'BCH':'BCC','MIOTA':'IOTA', 'XRB':'NANO'}\n",
    "        self.unmapping = { v:k for k,v in self.remapping.items()}\n",
    "        self.prices = {'ADA/BTC': 43.0, 'BCC/BTC': 0.016, 'BTC': 0.002, 'BTG/BTC': 0.16, 'DASH/BTC': 0.03, 'EOS/BTC': 2.0, 'ETC/BTC': 0.83, 'ETH/BTC': 0.02, 'ICX/BTC': 3.42, 'IOTA/BTC': 9.0, 'LSK/BTC': 0.84, 'LTC/BTC': 0.11, 'NANO/BTC': 1.41, 'NEO/BTC': 0.14, 'QTUM/BTC': 0.68, 'TRX/BTC': 433.0, 'VEN/BTC': 4.0, 'XLM/BTC': 43.0, 'XMR/BTC': 0.07400000000000001, 'XRP/BTC': 21.0}\n",
    "\n",
    "    @trader.remapDeco\n",
    "    def getPrice(self, sym):\n",
    "        return  {sym: (self.prices[sym], 'BTC')}\n",
    "    \n",
    "    @trader.remapDeco\n",
    "    def getAllPrices(self, pairs): \n",
    "        prices = {}\n",
    "        exchangePrices = self.client.get_all_tickers()\n",
    "        # Scrub exchange prices\n",
    "        exchangePrices = { x['symbol']:x['price'] for x in exchangePrices }\n",
    "\n",
    "        for pair in pairs:\n",
    "            \n",
    "            prices[pair] = (exchangePrices[pair.replace(\"/\",\"\")], 'BTC')\n",
    "        return prices\n",
    "    \n",
    "client = binance()"
   ]
  },
  {
   "cell_type": "code",
   "execution_count": 146,
   "metadata": {},
   "outputs": [],
   "source": [
    "from functools import singledispatch\n",
    "\n",
    "# For trading\n",
    "from binance.client import Client\n",
    "from binance.enums import *\n",
    "import config\n",
    "\n",
    "\n",
    "class exchange():\n",
    "    def __init__(self):\n",
    "        self.mapping = {}\n",
    "        self.unmapping = {}\n",
    "        pass\n",
    "\n",
    "    \n",
    "    @singledispatch\n",
    "    @classmethod    \n",
    "    def mapper(pair, mapping):\n",
    "        raise NotImplementedError('Unsupported type')\n",
    "\n",
    "    @mapper.register(str)\n",
    "    def _(pair, mapping):\n",
    "        \"\"\" Converts symbols based on mapping dictionary\n",
    "        \"\"\"\n",
    "        pair = pair.split('/')\n",
    "        for i, sym in enumerate(pair):\n",
    "            if sym in mapping:\n",
    "    #                 print('Changing {} to {}'.format(pair[i], self.remapping[sym]))\n",
    "                pair[i] = mapping[sym]\n",
    "        return ('/'.join(pair))\n",
    "\n",
    "    @mapper.register(list)\n",
    "    def _(pairs, mapping):\n",
    "        return [ trader.mapper(x, mapping) for x in pairs ]\n",
    "\n",
    "    @mapper.register(dict)\n",
    "    def _(pairs, mapping):\n",
    "        return { trader.mapper(s, mapping):t for s,t in pairs.items()}\n",
    "    \n",
    "    def remapDeco(func):\n",
    "        def wrapper(self, pair):\n",
    "            # Covert input from User to exchange symbols\n",
    "            inp = trader.mapper(pair, self.mapping)\n",
    "            \n",
    "            out = func(self,inp)\n",
    "            \n",
    "            # Convert output from exchange to user symbols\n",
    "            out = trader.mapper(out, self.unmapping)\n",
    "            \n",
    "            return out\n",
    "        return wrapper\n",
    "    \n",
    "    def getPrice(self, pair): \n",
    "        \"\"\" Returns price for a single pair\n",
    "        \"\"\"\n",
    "        pass\n",
    "\n",
    "    def getAllPrices(self, pairs):\n",
    "        \"\"\" Returns dictionary of all prices for a list of inputs\n",
    "        \"\"\"\n",
    "        pass\n",
    "\n",
    "class binance(exchange):\n",
    "    def __init__(self):\n",
    "        self.client = Client(config.binance_api_key, config.binance_api_secret)\n",
    "        self.mapping = {'BCH':'BCC','MIOTA':'IOTA', 'XRB':'NANO'}\n",
    "        self.unmapping = { v:k for k,v in self.mapping.items()}\n",
    "        self.prices = {'ADA/BTC': 43.0, 'BCC/BTC': 0.016, 'BTC': 0.002, 'BTG/BTC': 0.16, 'DASH/BTC': 0.03, 'EOS/BTC': 2.0, 'ETC/BTC': 0.83, 'ETH/BTC': 0.02, 'ICX/BTC': 3.42, 'IOTA/BTC': 9.0, 'LSK/BTC': 0.84, 'LTC/BTC': 0.11, 'NANO/BTC': 1.41, 'NEO/BTC': 0.14, 'QTUM/BTC': 0.68, 'TRX/BTC': 433.0, 'VEN/BTC': 4.0, 'XLM/BTC': 43.0, 'XMR/BTC': 0.07400000000000001, 'XRP/BTC': 21.0}\n",
    "\n",
    "    @trader.remapDeco\n",
    "    def getPrice(self, pair):\n",
    "        return  {sym: (self.prices[pair], 'Price')}\n",
    "    \n",
    "    @trader.remapDeco\n",
    "    def getAllPrices(self, pairs): \n",
    "        prices = {}\n",
    "        exchangePrices = self.client.get_all_tickers()\n",
    "        # Scrub exchange prices\n",
    "        exchangePrices = { x['symbol']:x['price'] for x in exchangePrices }\n",
    "\n",
    "        for pair in pairs:\n",
    "            \n",
    "            prices[pair] = (exchangePrices[pair.replace(\"/\",\"\")], 'Price')\n",
    "        return prices\n",
    "    \n",
    "client = binance()"
   ]
  },
  {
   "cell_type": "code",
   "execution_count": 147,
   "metadata": {},
   "outputs": [
    {
     "name": "stdout",
     "output_type": "stream",
     "text": [
      "{'BCH/BTC': ('0.12219400', 'Price'), 'MIOTA/BTC': ('0.00019934', 'Price'), 'DASH/BTC': ('0.06101700', 'Price')}\n"
     ]
    }
   ],
   "source": [
    "print(client.getAllPrices(['BCH/BTC','MIOTA/BTC','DASH/BTC']))"
   ]
  },
  {
   "cell_type": "code",
   "execution_count": 141,
   "metadata": {},
   "outputs": [
    {
     "name": "stdout",
     "output_type": "stream",
     "text": [
      "{'BCH/BTC': ('0.12204100', 'Price'), 'MIOTA/BTC': ('0.00019899', 'Price'), 'DASH/BTC': ('0.06103900', 'Price')}\n"
     ]
    }
   ],
   "source": [
    "print(client.getAllPrices(['BCH/BTC','MIOTA/BTC','DASH/BTC']))"
   ]
  },
  {
   "cell_type": "code",
   "execution_count": 142,
   "metadata": {},
   "outputs": [
    {
     "name": "stdout",
     "output_type": "stream",
     "text": [
      "{'MIOTA/BTC': (9.0, 'Price')}\n"
     ]
    }
   ],
   "source": [
    "print(client.getPrice('MIOTA/BTC'))\n",
    "\n",
    "# print(client.symbolRemapping('BCH'))"
   ]
  },
  {
   "cell_type": "code",
   "execution_count": 78,
   "metadata": {},
   "outputs": [
    {
     "data": {
      "text/plain": [
       "{'ADA/BTC': 43.0,\n",
       " 'BCC/BTC': 0.016,\n",
       " 'BTC': 0.002,\n",
       " 'BTG/BTC': 0.16,\n",
       " 'DASH/BTC': 0.03,\n",
       " 'EOS/BTC': 2.0,\n",
       " 'ETC/BTC': 0.83,\n",
       " 'ETH/BTC': 0.02,\n",
       " 'ICX/BTC': 3.42,\n",
       " 'IOTA/BTC': 9.0,\n",
       " 'LSK/BTC': 0.84,\n",
       " 'LTC/BTC': 0.11,\n",
       " 'NANO/BTC': 1.41,\n",
       " 'NEO/BTC': 0.14,\n",
       " 'QTUM/BTC': 0.68,\n",
       " 'TRX/BTC': 433.0,\n",
       " 'VEN/BTC': 4.0,\n",
       " 'XLM/BTC': 43.0,\n",
       " 'XMR/BTC': 0.07400000000000001,\n",
       " 'XRP/BTC': 21.0}"
      ]
     },
     "execution_count": 78,
     "metadata": {},
     "output_type": "execute_result"
    }
   ],
   "source": [
    "client.prices"
   ]
  },
  {
   "cell_type": "code",
   "execution_count": null,
   "metadata": {},
   "outputs": [],
   "source": [
    "def symbolRemap(func):\n",
    "    def wrapper(self, x):\n",
    "        remap = {'BCH':'BCC'}\n",
    "        x = remap[x]\n",
    "        print(\"Changed to binance pair mapping:\")\n",
    "        func(self,x)\n",
    "    return wrapper\n",
    "\n",
    "@symbolRemap\n",
    "def price(x):\n",
    "    print(x)\n",
    "\n",
    "price(\"BCH\")"
   ]
  },
  {
   "cell_type": "code",
   "execution_count": 22,
   "metadata": {},
   "outputs": [
    {
     "data": {
      "text/plain": [
       "'ADA/BTC'"
      ]
     },
     "execution_count": 22,
     "metadata": {},
     "output_type": "execute_result"
    }
   ],
   "source": [
    "pair = 'ADA/BTC'.split('/')\n",
    "'/'.join(pair)"
   ]
  },
  {
   "cell_type": "code",
   "execution_count": 20,
   "metadata": {
    "scrolled": true
   },
   "outputs": [
    {
     "name": "stdout",
     "output_type": "stream",
     "text": [
      "ADA\n",
      "BTC\n"
     ]
    }
   ],
   "source": [
    "for i in [quote, base]:\n",
    "    print(i)"
   ]
  }
 ],
 "metadata": {
  "kernelspec": {
   "display_name": "Python 3",
   "language": "python",
   "name": "python3"
  },
  "language_info": {
   "codemirror_mode": {
    "name": "ipython",
    "version": 3
   },
   "file_extension": ".py",
   "mimetype": "text/x-python",
   "name": "python",
   "nbconvert_exporter": "python",
   "pygments_lexer": "ipython3",
   "version": "3.6.3"
  }
 },
 "nbformat": 4,
 "nbformat_minor": 2
}
